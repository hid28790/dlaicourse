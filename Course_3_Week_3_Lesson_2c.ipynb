{
  "nbformat": 4,
  "nbformat_minor": 0,
  "metadata": {
    "accelerator": "GPU",
    "colab": {
      "name": "Course 3 - Week 3 - Lesson 2c.ipynb",
      "provenance": [],
      "collapsed_sections": [],
      "toc_visible": true
    },
    "kernelspec": {
      "display_name": "Python 3",
      "language": "python",
      "name": "python3"
    },
    "language_info": {
      "codemirror_mode": {
        "name": "ipython",
        "version": 3
      },
      "file_extension": ".py",
      "mimetype": "text/x-python",
      "name": "python",
      "nbconvert_exporter": "python",
      "pygments_lexer": "ipython3",
      "version": "3.7.6"
    }
  },
  "cells": [
    {
      "cell_type": "code",
      "metadata": {
        "id": "zX4Kg8DUTKWO"
      },
      "source": [
        "#@title Licensed under the Apache License, Version 2.0 (the \"License\");\n",
        "# you may not use this file except in compliance with the License.\n",
        "# You may obtain a copy of the License at\n",
        "#\n",
        "# https://www.apache.org/licenses/LICENSE-2.0\n",
        "#\n",
        "# Unless required by applicable law or agreed to in writing, software\n",
        "# distributed under the License is distributed on an \"AS IS\" BASIS,\n",
        "# WITHOUT WARRANTIES OR CONDITIONS OF ANY KIND, either express or implied.\n",
        "# See the License for the specific language governing permissions and\n",
        "# limitations under the License."
      ],
      "execution_count": 1,
      "outputs": []
    },
    {
      "cell_type": "markdown",
      "metadata": {
        "id": "67pgoaQ4t5fU"
      },
      "source": [
        "<a href=\"https://colab.research.google.com/github/lmoroney/dlaicourse/blob/master/TensorFlow%20In%20Practice/Course%203%20-%20NLP/Course%203%20-%20Week%203%20-%20Lesson%202c.ipynb\" target=\"_parent\"><img src=\"https://colab.research.google.com/assets/colab-badge.svg\" alt=\"Open In Colab\"/></a>"
      ]
    },
    {
      "cell_type": "code",
      "metadata": {
        "colab": {
          "base_uri": "https://localhost:8080/"
        },
        "id": "jGwXGIXvFhXW",
        "outputId": "85111a50-0eef-413a-fe83-fc4a056a2180"
      },
      "source": [
        "import numpy as np\n",
        "\n",
        "import json\n",
        "import tensorflow as tf\n",
        "\n",
        "from tensorflow.keras.preprocessing.text import Tokenizer\n",
        "from tensorflow.keras.preprocessing.sequence import pad_sequences\n",
        "\n",
        "!wget --no-check-certificate \\\n",
        "    https://storage.googleapis.com/laurencemoroney-blog.appspot.com/sarcasm.json \\\n",
        "    -O /tmp/sarcasm.json\n",
        "\n",
        "vocab_size = 1000\n",
        "embedding_dim = 16\n",
        "max_length = 120\n",
        "trunc_type='post'\n",
        "padding_type='post'\n",
        "oov_tok = \"<OOV>\"\n",
        "training_size = 20000\n",
        "\n",
        "\n",
        "with open(\"/tmp/sarcasm.json\", 'r') as f:\n",
        "    datastore = json.load(f)\n",
        "\n",
        "\n",
        "sentences = []\n",
        "labels = []\n",
        "urls = []\n",
        "for item in datastore:\n",
        "    sentences.append(item['headline'])\n",
        "    labels.append(item['is_sarcastic'])\n",
        "\n",
        "training_sentences = sentences[0:training_size]\n",
        "testing_sentences = sentences[training_size:]\n",
        "training_labels = labels[0:training_size]\n",
        "testing_labels = labels[training_size:]\n",
        "\n",
        "tokenizer = Tokenizer(num_words=vocab_size, oov_token=oov_tok)\n",
        "tokenizer.fit_on_texts(training_sentences)\n",
        "\n",
        "word_index = tokenizer.word_index\n",
        "\n",
        "training_sequences = tokenizer.texts_to_sequences(training_sentences)\n",
        "training_padded = pad_sequences(training_sequences, maxlen=max_length, padding=padding_type, truncating=trunc_type)\n",
        "\n",
        "testing_sequences = tokenizer.texts_to_sequences(testing_sentences)\n",
        "testing_padded = pad_sequences(testing_sequences, maxlen=max_length, padding=padding_type, truncating=trunc_type)\n",
        "\n",
        "model = tf.keras.Sequential([\n",
        "    tf.keras.layers.Embedding(vocab_size, embedding_dim, input_length=max_length),\n",
        "    tf.keras.layers.Conv1D(128, 5, activation='relu'),\n",
        "    tf.keras.layers.GlobalMaxPooling1D(),\n",
        "    tf.keras.layers.Dense(24, activation='relu'),\n",
        "    tf.keras.layers.Dense(1, activation='sigmoid')\n",
        "])\n",
        "model.compile(loss='binary_crossentropy',optimizer='adam',metrics=['accuracy'])\n",
        "model.summary()\n",
        "\n",
        "num_epochs = 50\n",
        "\n",
        "training_padded = np.array(training_padded)\n",
        "training_labels = np.array(training_labels)\n",
        "testing_padded = np.array(testing_padded)\n",
        "testing_labels = np.array(testing_labels)\n",
        "\n",
        "history = model.fit(training_padded, training_labels, epochs=num_epochs, validation_data=(testing_padded, testing_labels), verbose=1)\n"
      ],
      "execution_count": 2,
      "outputs": [
        {
          "output_type": "stream",
          "text": [
            "--2021-03-05 09:29:12--  https://storage.googleapis.com/laurencemoroney-blog.appspot.com/sarcasm.json\n",
            "Resolving storage.googleapis.com (storage.googleapis.com)... 74.125.20.128, 74.125.142.128, 74.125.195.128, ...\n",
            "Connecting to storage.googleapis.com (storage.googleapis.com)|74.125.20.128|:443... connected.\n",
            "HTTP request sent, awaiting response... 200 OK\n",
            "Length: 5643545 (5.4M) [application/json]\n",
            "Saving to: ‘/tmp/sarcasm.json’\n",
            "\n",
            "\r/tmp/sarcasm.json     0%[                    ]       0  --.-KB/s               \r/tmp/sarcasm.json   100%[===================>]   5.38M  --.-KB/s    in 0.02s   \n",
            "\n",
            "2021-03-05 09:29:12 (231 MB/s) - ‘/tmp/sarcasm.json’ saved [5643545/5643545]\n",
            "\n",
            "Model: \"sequential\"\n",
            "_________________________________________________________________\n",
            "Layer (type)                 Output Shape              Param #   \n",
            "=================================================================\n",
            "embedding (Embedding)        (None, 120, 16)           16000     \n",
            "_________________________________________________________________\n",
            "conv1d (Conv1D)              (None, 116, 128)          10368     \n",
            "_________________________________________________________________\n",
            "global_max_pooling1d (Global (None, 128)               0         \n",
            "_________________________________________________________________\n",
            "dense (Dense)                (None, 24)                3096      \n",
            "_________________________________________________________________\n",
            "dense_1 (Dense)              (None, 1)                 25        \n",
            "=================================================================\n",
            "Total params: 29,489\n",
            "Trainable params: 29,489\n",
            "Non-trainable params: 0\n",
            "_________________________________________________________________\n",
            "Epoch 1/50\n",
            "625/625 [==============================] - 36s 5ms/step - loss: 0.5573 - accuracy: 0.6908 - val_loss: 0.4007 - val_accuracy: 0.8205\n",
            "Epoch 2/50\n",
            "625/625 [==============================] - 3s 4ms/step - loss: 0.3560 - accuracy: 0.8438 - val_loss: 0.3933 - val_accuracy: 0.8229\n",
            "Epoch 3/50\n",
            "625/625 [==============================] - 3s 4ms/step - loss: 0.3115 - accuracy: 0.8671 - val_loss: 0.3890 - val_accuracy: 0.8238\n",
            "Epoch 4/50\n",
            "625/625 [==============================] - 3s 4ms/step - loss: 0.2725 - accuracy: 0.8832 - val_loss: 0.4013 - val_accuracy: 0.8274\n",
            "Epoch 5/50\n",
            "625/625 [==============================] - 3s 4ms/step - loss: 0.2405 - accuracy: 0.8996 - val_loss: 0.4426 - val_accuracy: 0.8159\n",
            "Epoch 6/50\n",
            "625/625 [==============================] - 3s 4ms/step - loss: 0.2041 - accuracy: 0.9186 - val_loss: 0.4684 - val_accuracy: 0.8129\n",
            "Epoch 7/50\n",
            "625/625 [==============================] - 3s 4ms/step - loss: 0.1684 - accuracy: 0.9366 - val_loss: 0.5295 - val_accuracy: 0.8086\n",
            "Epoch 8/50\n",
            "625/625 [==============================] - 3s 4ms/step - loss: 0.1417 - accuracy: 0.9468 - val_loss: 0.5835 - val_accuracy: 0.8098\n",
            "Epoch 9/50\n",
            "625/625 [==============================] - 3s 4ms/step - loss: 0.1160 - accuracy: 0.9598 - val_loss: 0.6474 - val_accuracy: 0.8067\n",
            "Epoch 10/50\n",
            "625/625 [==============================] - 3s 4ms/step - loss: 0.0966 - accuracy: 0.9656 - val_loss: 0.7532 - val_accuracy: 0.8013\n",
            "Epoch 11/50\n",
            "625/625 [==============================] - 3s 4ms/step - loss: 0.0777 - accuracy: 0.9737 - val_loss: 0.7888 - val_accuracy: 0.8012\n",
            "Epoch 12/50\n",
            "625/625 [==============================] - 3s 4ms/step - loss: 0.0640 - accuracy: 0.9799 - val_loss: 0.8789 - val_accuracy: 0.8018\n",
            "Epoch 13/50\n",
            "625/625 [==============================] - 3s 4ms/step - loss: 0.0617 - accuracy: 0.9798 - val_loss: 0.9662 - val_accuracy: 0.7997\n",
            "Epoch 14/50\n",
            "625/625 [==============================] - 3s 4ms/step - loss: 0.0522 - accuracy: 0.9836 - val_loss: 1.0475 - val_accuracy: 0.7961\n",
            "Epoch 15/50\n",
            "625/625 [==============================] - 3s 4ms/step - loss: 0.0452 - accuracy: 0.9851 - val_loss: 1.1432 - val_accuracy: 0.7901\n",
            "Epoch 16/50\n",
            "625/625 [==============================] - 3s 4ms/step - loss: 0.0439 - accuracy: 0.9830 - val_loss: 1.2419 - val_accuracy: 0.7903\n",
            "Epoch 17/50\n",
            "625/625 [==============================] - 3s 4ms/step - loss: 0.0424 - accuracy: 0.9849 - val_loss: 1.2700 - val_accuracy: 0.7919\n",
            "Epoch 18/50\n",
            "625/625 [==============================] - 3s 4ms/step - loss: 0.0377 - accuracy: 0.9856 - val_loss: 1.3122 - val_accuracy: 0.7948\n",
            "Epoch 19/50\n",
            "625/625 [==============================] - 3s 4ms/step - loss: 0.0340 - accuracy: 0.9880 - val_loss: 1.4758 - val_accuracy: 0.7879\n",
            "Epoch 20/50\n",
            "625/625 [==============================] - 3s 4ms/step - loss: 0.0365 - accuracy: 0.9853 - val_loss: 1.5166 - val_accuracy: 0.7800\n",
            "Epoch 21/50\n",
            "625/625 [==============================] - 3s 4ms/step - loss: 0.0341 - accuracy: 0.9867 - val_loss: 1.5066 - val_accuracy: 0.7903\n",
            "Epoch 22/50\n",
            "625/625 [==============================] - 3s 4ms/step - loss: 0.0285 - accuracy: 0.9893 - val_loss: 1.5483 - val_accuracy: 0.7882\n",
            "Epoch 23/50\n",
            "625/625 [==============================] - 3s 4ms/step - loss: 0.0265 - accuracy: 0.9897 - val_loss: 1.5429 - val_accuracy: 0.7867\n",
            "Epoch 24/50\n",
            "625/625 [==============================] - 3s 4ms/step - loss: 0.0310 - accuracy: 0.9881 - val_loss: 1.8127 - val_accuracy: 0.7930\n",
            "Epoch 25/50\n",
            "625/625 [==============================] - 3s 4ms/step - loss: 0.0295 - accuracy: 0.9895 - val_loss: 1.6979 - val_accuracy: 0.7942\n",
            "Epoch 26/50\n",
            "625/625 [==============================] - 3s 4ms/step - loss: 0.0268 - accuracy: 0.9889 - val_loss: 1.7988 - val_accuracy: 0.7919\n",
            "Epoch 27/50\n",
            "625/625 [==============================] - 3s 4ms/step - loss: 0.0198 - accuracy: 0.9914 - val_loss: 1.8053 - val_accuracy: 0.7945\n",
            "Epoch 28/50\n",
            "625/625 [==============================] - 3s 4ms/step - loss: 0.0256 - accuracy: 0.9887 - val_loss: 1.9191 - val_accuracy: 0.7910\n",
            "Epoch 29/50\n",
            "625/625 [==============================] - 3s 4ms/step - loss: 0.0270 - accuracy: 0.9893 - val_loss: 2.0176 - val_accuracy: 0.7952\n",
            "Epoch 30/50\n",
            "625/625 [==============================] - 3s 4ms/step - loss: 0.0234 - accuracy: 0.9900 - val_loss: 2.2174 - val_accuracy: 0.7827\n",
            "Epoch 31/50\n",
            "625/625 [==============================] - 3s 4ms/step - loss: 0.0234 - accuracy: 0.9905 - val_loss: 2.0862 - val_accuracy: 0.7880\n",
            "Epoch 32/50\n",
            "625/625 [==============================] - 3s 4ms/step - loss: 0.0223 - accuracy: 0.9906 - val_loss: 2.0463 - val_accuracy: 0.7922\n",
            "Epoch 33/50\n",
            "625/625 [==============================] - 3s 4ms/step - loss: 0.0226 - accuracy: 0.9909 - val_loss: 2.0386 - val_accuracy: 0.7860\n",
            "Epoch 34/50\n",
            "625/625 [==============================] - 3s 4ms/step - loss: 0.0255 - accuracy: 0.9898 - val_loss: 1.9802 - val_accuracy: 0.7869\n",
            "Epoch 35/50\n",
            "625/625 [==============================] - 3s 4ms/step - loss: 0.0228 - accuracy: 0.9906 - val_loss: 2.0381 - val_accuracy: 0.7880\n",
            "Epoch 36/50\n",
            "625/625 [==============================] - 3s 4ms/step - loss: 0.0176 - accuracy: 0.9918 - val_loss: 2.2899 - val_accuracy: 0.7892\n",
            "Epoch 37/50\n",
            "625/625 [==============================] - 3s 4ms/step - loss: 0.0188 - accuracy: 0.9919 - val_loss: 2.1695 - val_accuracy: 0.7815\n",
            "Epoch 38/50\n",
            "625/625 [==============================] - 3s 4ms/step - loss: 0.0255 - accuracy: 0.9896 - val_loss: 2.0494 - val_accuracy: 0.7877\n",
            "Epoch 39/50\n",
            "625/625 [==============================] - 3s 4ms/step - loss: 0.0257 - accuracy: 0.9897 - val_loss: 2.1337 - val_accuracy: 0.7948\n",
            "Epoch 40/50\n",
            "625/625 [==============================] - 3s 4ms/step - loss: 0.0214 - accuracy: 0.9902 - val_loss: 2.3474 - val_accuracy: 0.7822\n",
            "Epoch 41/50\n",
            "625/625 [==============================] - 3s 4ms/step - loss: 0.0199 - accuracy: 0.9907 - val_loss: 2.2881 - val_accuracy: 0.7849\n",
            "Epoch 42/50\n",
            "625/625 [==============================] - 3s 4ms/step - loss: 0.0167 - accuracy: 0.9921 - val_loss: 2.2326 - val_accuracy: 0.7925\n",
            "Epoch 43/50\n",
            "625/625 [==============================] - 3s 4ms/step - loss: 0.0188 - accuracy: 0.9922 - val_loss: 2.5149 - val_accuracy: 0.7861\n",
            "Epoch 44/50\n",
            "625/625 [==============================] - 3s 4ms/step - loss: 0.0186 - accuracy: 0.9921 - val_loss: 2.2944 - val_accuracy: 0.7913\n",
            "Epoch 45/50\n",
            "625/625 [==============================] - 3s 4ms/step - loss: 0.0220 - accuracy: 0.9913 - val_loss: 2.2569 - val_accuracy: 0.7876\n",
            "Epoch 46/50\n",
            "625/625 [==============================] - 3s 4ms/step - loss: 0.0168 - accuracy: 0.9926 - val_loss: 2.3138 - val_accuracy: 0.7869\n",
            "Epoch 47/50\n",
            "625/625 [==============================] - 3s 4ms/step - loss: 0.0155 - accuracy: 0.9933 - val_loss: 2.5639 - val_accuracy: 0.7874\n",
            "Epoch 48/50\n",
            "625/625 [==============================] - 3s 4ms/step - loss: 0.0182 - accuracy: 0.9923 - val_loss: 2.4795 - val_accuracy: 0.7794\n",
            "Epoch 49/50\n",
            "625/625 [==============================] - 3s 4ms/step - loss: 0.0264 - accuracy: 0.9894 - val_loss: 2.4912 - val_accuracy: 0.7874\n",
            "Epoch 50/50\n",
            "625/625 [==============================] - 3s 4ms/step - loss: 0.0218 - accuracy: 0.9908 - val_loss: 2.7270 - val_accuracy: 0.7855\n"
          ],
          "name": "stdout"
        }
      ]
    },
    {
      "cell_type": "code",
      "metadata": {
        "colab": {
          "base_uri": "https://localhost:8080/",
          "height": 542
        },
        "id": "g9DC6dmLF8DC",
        "outputId": "9a0a7a06-5da3-490a-fde8-b8997244e5c6"
      },
      "source": [
        "import matplotlib.pyplot as plt\n",
        "\n",
        "\n",
        "def plot_graphs(history, string):\n",
        "  plt.plot(history.history[string])\n",
        "  plt.plot(history.history['val_'+string])\n",
        "  plt.xlabel(\"Epochs\")\n",
        "  plt.ylabel(string)\n",
        "  plt.legend([string, 'val_'+string])\n",
        "  plt.show()\n",
        "\n",
        "plot_graphs(history, 'accuracy')\n",
        "plot_graphs(history, 'loss')"
      ],
      "execution_count": 3,
      "outputs": [
        {
          "output_type": "display_data",
          "data": {
            "image/png": "[encoded data removed]",
            "text/plain": [
              "<Figure size 432x288 with 1 Axes>"
            ]
          },
          "metadata": {
            "tags": [],
            "needs_background": "light"
          }
        },
        {
          "output_type": "display_data",
          "data": {
            "image/png": "[encoded data removed]",
            "text/plain": [
              "<Figure size 432x288 with 1 Axes>"
            ]
          },
          "metadata": {
            "tags": [],
            "needs_background": "light"
          }
        }
      ]
    },
    {
      "cell_type": "code",
      "metadata": {
        "id": "7ZEZIUppGhdi"
      },
      "source": [
        "model.save(\"test.h5\")"
      ],
      "execution_count": 4,
      "outputs": []
    }
  ]
}