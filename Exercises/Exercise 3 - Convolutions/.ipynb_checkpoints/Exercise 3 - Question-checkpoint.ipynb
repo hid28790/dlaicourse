{
 "cells": [
  {
   "cell_type": "code",
   "execution_count": 0,
   "metadata": {
    "colab": {},
    "colab_type": "code",
    "id": "zX4Kg8DUTKWO"
   },
   "outputs": [],
   "source": [
    "#@title Licensed under the Apache License, Version 2.0 (the \"License\");\n",
    "# you may not use this file except in compliance with the License.\n",
    "# You may obtain a copy of the License at\n",
    "#\n",
    "# https://www.apache.org/licenses/LICENSE-2.0\n",
    "#\n",
    "# Unless required by applicable law or agreed to in writing, software\n",
    "# distributed under the License is distributed on an \"AS IS\" BASIS,\n",
    "# WITHOUT WARRANTIES OR CONDITIONS OF ANY KIND, either express or implied.\n",
    "# See the License for the specific language governing permissions and\n",
    "# limitations under the License."
   ]
  },
  {
   "cell_type": "markdown",
   "metadata": {
    "colab_type": "text",
    "id": "iQjHqsmTAVLU"
   },
   "source": [
    "## Exercise 3\n",
    "In the videos you looked at how you would improve Fashion MNIST using Convolutions. For your exercise see if you can improve MNIST to 99.8% accuracy or more using only a single convolutional layer and a single MaxPooling 2D. You should stop training once the accuracy goes above this amount. It should happen in less than 20 epochs, so it's ok to hard code the number of epochs for training, but your training must end once it hits the above metric. If it doesn't, then you'll need to redesign your layers.\n",
    "\n",
    "I've started the code for you -- you need to finish it!\n",
    "\n",
    "When 99.8% accuracy has been hit, you should print out the string \"Reached 99.8% accuracy so cancelling training!\"\n"
   ]
  },
  {
   "cell_type": "code",
   "execution_count": 2,
   "metadata": {
    "colab": {},
    "colab_type": "code",
    "id": "sfQRyaJWAIdg"
   },
   "outputs": [
    {
     "name": "stdout",
     "output_type": "stream",
     "text": [
      "Epoch 1/20\n",
      "1875/1875 [==============================] - 17s 9ms/step - loss: 0.3023 - accuracy: 0.9121\n",
      "Epoch 2/20\n",
      "1875/1875 [==============================] - 18s 9ms/step - loss: 0.0535 - accuracy: 0.9831 0s - loss: 0.0535 - ac\n",
      "Epoch 3/20\n",
      "1875/1875 [==============================] - 17s 9ms/step - loss: 0.0322 - accuracy: 0.9905\n",
      "Epoch 4/20\n",
      "1875/1875 [==============================] - 18s 9ms/step - loss: 0.0207 - accuracy: 0.9937\n",
      "Epoch 5/20\n",
      "1875/1875 [==============================] - 18s 9ms/step - loss: 0.0134 - accuracy: 0.9960\n",
      "Epoch 6/20\n",
      "1875/1875 [==============================] - 17s 9ms/step - loss: 0.0098 - accuracy: 0.9969\n",
      "Epoch 7/20\n",
      "1875/1875 [==============================] - 17s 9ms/step - loss: 0.0064 - accuracy: 0.9980\n",
      "Epoch 8/20\n",
      "1875/1875 [==============================] - 18s 9ms/step - loss: 0.0048 - accuracy: 0.9984\n",
      "Epoch 9/20\n",
      "1875/1875 [==============================] - 18s 9ms/step - loss: 0.0048 - accuracy: 0.9986\n",
      "\n",
      "Reached 99.8% accuracy so cancelling training!\n",
      "313/313 [==============================] - 1s 2ms/step - loss: 0.0395 - accuracy: 0.9883\n"
     ]
    }
   ],
   "source": [
    "import tensorflow as tf\n",
    "\n",
    "class myCallback(tf.keras.callbacks.Callback):\n",
    "  def on_epoch_end(self, epoch, logs={}):\n",
    "    if(logs.get('accuracy')>0.998):\n",
    "      print(\"\\nReached 99.8% accuracy so cancelling training!\")\n",
    "      self.model.stop_training = True\n",
    "    \n",
    "mnist = tf.keras.datasets.mnist\n",
    "(training_images, training_labels), (test_images, test_labels) = mnist.load_data()\n",
    "\n",
    "# YOUR CODE STARTS HERE\n",
    "training_images=training_images.reshape(60000, 28, 28, 1)\n",
    "training_images=training_images / 255.0\n",
    "test_images = test_images.reshape(10000, 28, 28, 1)\n",
    "test_images=test_images/255.0\n",
    "# YOUR CODE ENDS HERE\n",
    "\n",
    "model = tf.keras.models.Sequential([\n",
    "    # YOUR CODE STARTS HERE\n",
    "    tf.keras.layers.Conv2D(32, (3,3), activation='relu', input_shape=(28, 28, 1)),\n",
    "    tf.keras.layers.MaxPooling2D(2, 2),\n",
    "    tf.keras.layers.Flatten(),\n",
    "    tf.keras.layers.Dense(128, activation='relu'),\n",
    "    tf.keras.layers.Dense(10, activation='softmax')\n",
    "    # YOUR CODE ENDS HERE\n",
    "])\n",
    "\n",
    "# YOUR CODE STARTS HERE\n",
    "callback = myCallback()\n",
    "model.compile(optimizer='adam', loss='sparse_categorical_crossentropy', metrics=['accuracy'])\n",
    "model.fit(training_images, training_labels, epochs=20, callbacks = [callback])\n",
    "test_loss = model.evaluate(test_images, test_labels)\n",
    "# YOUR CODE ENDS HERE\n"
   ]
  },
  {
   "cell_type": "code",
   "execution_count": null,
   "metadata": {},
   "outputs": [],
   "source": []
  }
 ],
 "metadata": {
  "colab": {
   "collapsed_sections": [],
   "name": "Exercise 3 - Question.ipynb",
   "provenance": [],
   "toc_visible": true,
   "version": "0.3.2"
  },
  "kernelspec": {
   "display_name": "Python 3",
   "language": "python",
   "name": "python3"
  },
  "language_info": {
   "codemirror_mode": {
    "name": "ipython",
    "version": 3
   },
   "file_extension": ".py",
   "mimetype": "text/x-python",
   "name": "python",
   "nbconvert_exporter": "python",
   "pygments_lexer": "ipython3",
   "version": "3.8.8"
  }
 },
 "nbformat": 4,
 "nbformat_minor": 1
}
