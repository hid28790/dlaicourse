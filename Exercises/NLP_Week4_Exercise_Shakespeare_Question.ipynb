{
  "nbformat": 4,
  "nbformat_minor": 0,
  "metadata": {
    "accelerator": "GPU",
    "colab": {
      "name": "NLP_Week4_Exercise_Shakespeare_Question.ipynb",
      "provenance": [],
      "toc_visible": true
    },
    "kernelspec": {
      "display_name": "Python 3",
      "name": "python3"
    }
  },
  "cells": [
    {
      "cell_type": "code",
      "metadata": {
        "id": "zX4Kg8DUTKWO"
      },
      "source": [
        "#@title Licensed under the Apache License, Version 2.0 (the \"License\");\n",
        "# you may not use this file except in compliance with the License.\n",
        "# You may obtain a copy of the License at\n",
        "#\n",
        "# https://www.apache.org/licenses/LICENSE-2.0\n",
        "#\n",
        "# Unless required by applicable law or agreed to in writing, software\n",
        "# distributed under the License is distributed on an \"AS IS\" BASIS,\n",
        "# WITHOUT WARRANTIES OR CONDITIONS OF ANY KIND, either express or implied.\n",
        "# See the License for the specific language governing permissions and\n",
        "# limitations under the License."
      ],
      "execution_count": null,
      "outputs": []
    },
    {
      "cell_type": "code",
      "metadata": {
        "id": "BOwsuGQQY9OL"
      },
      "source": [
        "from tensorflow.keras.preprocessing.sequence import pad_sequences\n",
        "from tensorflow.keras.layers import Embedding, LSTM, Dense, Dropout, Bidirectional\n",
        "from tensorflow.keras.preprocessing.text import Tokenizer\n",
        "from tensorflow.keras.models import Sequential\n",
        "from tensorflow.keras.optimizers import Adam\n",
        "### YOUR CODE HERE\n",
        "# Figure out how to import regularizers\n",
        "from tensorflow.keras import regularizers\n",
        "###\n",
        "import tensorflow.keras.utils as ku \n",
        "import numpy as np "
      ],
      "execution_count": 1,
      "outputs": []
    },
    {
      "cell_type": "code",
      "metadata": {
        "colab": {
          "base_uri": "https://localhost:8080/"
        },
        "id": "PRnDnCW-Z7qv",
        "outputId": "fef090ea-8150-4de8-db49-7d3c5a8877ff"
      },
      "source": [
        "tokenizer = Tokenizer()\n",
        "!wget --no-check-certificate \\\n",
        "    https://storage.googleapis.com/laurencemoroney-blog.appspot.com/sonnets.txt \\\n",
        "    -O /tmp/sonnets.txt\n",
        "data = open('/tmp/sonnets.txt').read()\n",
        "\n",
        "corpus = data.lower().split(\"\\n\")\n",
        "\n",
        "\n",
        "tokenizer.fit_on_texts(corpus)\n",
        "total_words = len(tokenizer.word_index) + 1\n",
        "\n",
        "# create input sequences using list of tokens\n",
        "input_sequences = []\n",
        "for line in corpus:\n",
        "\ttoken_list = tokenizer.texts_to_sequences([line])[0]\n",
        "\tfor i in range(1, len(token_list)):\n",
        "\t\tn_gram_sequence = token_list[:i+1]\n",
        "\t\tinput_sequences.append(n_gram_sequence)\n",
        "\n",
        "\n",
        "# pad sequences \n",
        "max_sequence_len = max([len(x) for x in input_sequences])\n",
        "input_sequences = np.array(pad_sequences(input_sequences, maxlen=max_sequence_len, padding='pre'))\n",
        "\n",
        "# create predictors and label\n",
        "predictors, label = input_sequences[:,:-1],input_sequences[:,-1]\n",
        "\n",
        "label = ku.to_categorical(label, num_classes=total_words)\n",
        "\n",
        "print(predictors.shape,label.shape)"
      ],
      "execution_count": 8,
      "outputs": [
        {
          "output_type": "stream",
          "text": [
            "--2021-03-05 16:20:00--  https://storage.googleapis.com/laurencemoroney-blog.appspot.com/sonnets.txt\n",
            "Resolving storage.googleapis.com (storage.googleapis.com)... 74.125.20.128, 74.125.197.128, 74.125.142.128, ...\n",
            "Connecting to storage.googleapis.com (storage.googleapis.com)|74.125.20.128|:443... connected.\n",
            "HTTP request sent, awaiting response... 200 OK\n",
            "Length: 93578 (91K) [text/plain]\n",
            "Saving to: ‘/tmp/sonnets.txt’\n",
            "\n",
            "\r/tmp/sonnets.txt      0%[                    ]       0  --.-KB/s               \r/tmp/sonnets.txt    100%[===================>]  91.38K  --.-KB/s    in 0.001s  \n",
            "\n",
            "2021-03-05 16:20:00 (161 MB/s) - ‘/tmp/sonnets.txt’ saved [93578/93578]\n",
            "\n",
            "(15462, 10) (15462, 3211)\n"
          ],
          "name": "stdout"
        }
      ]
    },
    {
      "cell_type": "code",
      "metadata": {
        "colab": {
          "base_uri": "https://localhost:8080/"
        },
        "id": "w9vH8Y59ajYL",
        "outputId": "63a7742c-9367-465d-d7ff-548858c76ded"
      },
      "source": [
        "model = Sequential()\n",
        "model.add(Embedding(total_words,100,input_length=max_sequence_len-1))\n",
        "model.add(Bidirectional(LSTM(200, return_sequences = True)))\n",
        "model.add(Dropout(0.2))\n",
        "model.add(Bidirectional(LSTM(200)))\n",
        "model.add(Dense(total_words, activation='relu', kernel_regularizer=regularizers.l2()))\n",
        "model.add(Dense(total_words, activation='softmax'))\n",
        "# Pick an optimizer\n",
        "model.compile(loss='categorical_crossentropy', optimizer='adam', metrics=['accuracy'])\n",
        "print(model.summary())\n"
      ],
      "execution_count": 9,
      "outputs": [
        {
          "output_type": "stream",
          "text": [
            "Model: \"sequential_1\"\n",
            "_________________________________________________________________\n",
            "Layer (type)                 Output Shape              Param #   \n",
            "=================================================================\n",
            "embedding_1 (Embedding)      (None, 10, 100)           321100    \n",
            "_________________________________________________________________\n",
            "bidirectional_2 (Bidirection (None, 10, 400)           481600    \n",
            "_________________________________________________________________\n",
            "dropout_1 (Dropout)          (None, 10, 400)           0         \n",
            "_________________________________________________________________\n",
            "bidirectional_3 (Bidirection (None, 400)               961600    \n",
            "_________________________________________________________________\n",
            "dense_2 (Dense)              (None, 3211)              1287611   \n",
            "_________________________________________________________________\n",
            "dense_3 (Dense)              (None, 3211)              10313732  \n",
            "=================================================================\n",
            "Total params: 13,365,643\n",
            "Trainable params: 13,365,643\n",
            "Non-trainable params: 0\n",
            "_________________________________________________________________\n",
            "None\n"
          ],
          "name": "stdout"
        }
      ]
    },
    {
      "cell_type": "code",
      "metadata": {
        "colab": {
          "base_uri": "https://localhost:8080/"
        },
        "id": "AIg2f1HBxqof",
        "outputId": "5e8d542f-bdb7-4090-ac9e-978457b53443"
      },
      "source": [
        " history = model.fit(predictors, label, epochs=100, verbose=1)"
      ],
      "execution_count": 10,
      "outputs": [
        {
          "output_type": "stream",
          "text": [
            "Epoch 1/100\n",
            "484/484 [==============================] - 40s 13ms/step - loss: 7.8354 - accuracy: 0.0214\n",
            "Epoch 2/100\n",
            "484/484 [==============================] - 6s 13ms/step - loss: 6.5101 - accuracy: 0.0232\n",
            "Epoch 3/100\n",
            "484/484 [==============================] - 6s 13ms/step - loss: 6.3813 - accuracy: 0.0256\n",
            "Epoch 4/100\n",
            "484/484 [==============================] - 6s 13ms/step - loss: 6.2516 - accuracy: 0.0319\n",
            "Epoch 5/100\n",
            "484/484 [==============================] - 6s 13ms/step - loss: 6.1466 - accuracy: 0.0362\n",
            "Epoch 6/100\n",
            "484/484 [==============================] - 6s 13ms/step - loss: 6.0287 - accuracy: 0.0423\n",
            "Epoch 7/100\n",
            "484/484 [==============================] - 6s 13ms/step - loss: 5.8830 - accuracy: 0.0464\n",
            "Epoch 8/100\n",
            "484/484 [==============================] - 6s 13ms/step - loss: 5.7572 - accuracy: 0.0578\n",
            "Epoch 9/100\n",
            "484/484 [==============================] - 6s 13ms/step - loss: 5.6217 - accuracy: 0.0614\n",
            "Epoch 10/100\n",
            "484/484 [==============================] - 6s 13ms/step - loss: 5.4974 - accuracy: 0.0692\n",
            "Epoch 11/100\n",
            "484/484 [==============================] - 6s 13ms/step - loss: 5.3574 - accuracy: 0.0798\n",
            "Epoch 12/100\n",
            "484/484 [==============================] - 6s 13ms/step - loss: 5.2518 - accuracy: 0.0894\n",
            "Epoch 13/100\n",
            "484/484 [==============================] - 6s 13ms/step - loss: 5.1076 - accuracy: 0.1002\n",
            "Epoch 14/100\n",
            "484/484 [==============================] - 6s 13ms/step - loss: 5.0020 - accuracy: 0.1127\n",
            "Epoch 15/100\n",
            "484/484 [==============================] - 6s 13ms/step - loss: 4.8432 - accuracy: 0.1251\n",
            "Epoch 16/100\n",
            "484/484 [==============================] - 6s 13ms/step - loss: 4.7113 - accuracy: 0.1433\n",
            "Epoch 17/100\n",
            "484/484 [==============================] - 6s 13ms/step - loss: 4.5521 - accuracy: 0.1545\n",
            "Epoch 18/100\n",
            "484/484 [==============================] - 6s 13ms/step - loss: 4.4431 - accuracy: 0.1678\n",
            "Epoch 19/100\n",
            "484/484 [==============================] - 6s 13ms/step - loss: 4.3176 - accuracy: 0.1838\n",
            "Epoch 20/100\n",
            "484/484 [==============================] - 6s 13ms/step - loss: 4.1420 - accuracy: 0.2013\n",
            "Epoch 21/100\n",
            "484/484 [==============================] - 6s 13ms/step - loss: 4.0093 - accuracy: 0.2264\n",
            "Epoch 22/100\n",
            "484/484 [==============================] - 6s 13ms/step - loss: 3.8613 - accuracy: 0.2386\n",
            "Epoch 23/100\n",
            "484/484 [==============================] - 6s 13ms/step - loss: 3.6969 - accuracy: 0.2743\n",
            "Epoch 24/100\n",
            "484/484 [==============================] - 6s 13ms/step - loss: 3.5961 - accuracy: 0.2879\n",
            "Epoch 25/100\n",
            "484/484 [==============================] - 6s 13ms/step - loss: 3.4280 - accuracy: 0.3262\n",
            "Epoch 26/100\n",
            "484/484 [==============================] - 6s 13ms/step - loss: 3.2675 - accuracy: 0.3610\n",
            "Epoch 27/100\n",
            "484/484 [==============================] - 6s 13ms/step - loss: 3.1408 - accuracy: 0.3917\n",
            "Epoch 28/100\n",
            "484/484 [==============================] - 6s 13ms/step - loss: 3.0036 - accuracy: 0.4209\n",
            "Epoch 29/100\n",
            "484/484 [==============================] - 6s 13ms/step - loss: 2.8861 - accuracy: 0.4483\n",
            "Epoch 30/100\n",
            "484/484 [==============================] - 6s 13ms/step - loss: 2.7851 - accuracy: 0.4819\n",
            "Epoch 31/100\n",
            "484/484 [==============================] - 6s 13ms/step - loss: 2.6637 - accuracy: 0.5044\n",
            "Epoch 32/100\n",
            "484/484 [==============================] - 6s 13ms/step - loss: 2.5367 - accuracy: 0.5379\n",
            "Epoch 33/100\n",
            "484/484 [==============================] - 6s 13ms/step - loss: 2.4823 - accuracy: 0.5513\n",
            "Epoch 34/100\n",
            "484/484 [==============================] - 6s 13ms/step - loss: 2.3597 - accuracy: 0.5804\n",
            "Epoch 35/100\n",
            "484/484 [==============================] - 6s 13ms/step - loss: 2.3178 - accuracy: 0.5844\n",
            "Epoch 36/100\n",
            "484/484 [==============================] - 6s 13ms/step - loss: 2.2416 - accuracy: 0.6053\n",
            "Epoch 37/100\n",
            "484/484 [==============================] - 6s 13ms/step - loss: 2.1494 - accuracy: 0.6239\n",
            "Epoch 38/100\n",
            "484/484 [==============================] - 6s 13ms/step - loss: 2.0760 - accuracy: 0.6439\n",
            "Epoch 39/100\n",
            "484/484 [==============================] - 6s 13ms/step - loss: 1.9793 - accuracy: 0.6629\n",
            "Epoch 40/100\n",
            "484/484 [==============================] - 6s 13ms/step - loss: 1.9277 - accuracy: 0.6752\n",
            "Epoch 41/100\n",
            "484/484 [==============================] - 6s 13ms/step - loss: 1.8545 - accuracy: 0.6861\n",
            "Epoch 42/100\n",
            "484/484 [==============================] - 6s 13ms/step - loss: 1.8231 - accuracy: 0.6985\n",
            "Epoch 43/100\n",
            "484/484 [==============================] - 6s 13ms/step - loss: 1.7875 - accuracy: 0.6987\n",
            "Epoch 44/100\n",
            "484/484 [==============================] - 6s 13ms/step - loss: 1.7102 - accuracy: 0.7267\n",
            "Epoch 45/100\n",
            "484/484 [==============================] - 6s 13ms/step - loss: 1.6980 - accuracy: 0.7221\n",
            "Epoch 46/100\n",
            "484/484 [==============================] - 6s 13ms/step - loss: 1.6021 - accuracy: 0.7386\n",
            "Epoch 47/100\n",
            "484/484 [==============================] - 6s 13ms/step - loss: 1.5881 - accuracy: 0.7397\n",
            "Epoch 48/100\n",
            "484/484 [==============================] - 6s 13ms/step - loss: 1.5403 - accuracy: 0.7492\n",
            "Epoch 49/100\n",
            "484/484 [==============================] - 6s 13ms/step - loss: 1.5043 - accuracy: 0.7596\n",
            "Epoch 50/100\n",
            "484/484 [==============================] - 6s 13ms/step - loss: 1.4794 - accuracy: 0.7601\n",
            "Epoch 51/100\n",
            "484/484 [==============================] - 6s 13ms/step - loss: 1.4337 - accuracy: 0.7677\n",
            "Epoch 52/100\n",
            "484/484 [==============================] - 6s 13ms/step - loss: 1.4546 - accuracy: 0.7652\n",
            "Epoch 53/100\n",
            "484/484 [==============================] - 6s 13ms/step - loss: 1.3922 - accuracy: 0.7803\n",
            "Epoch 54/100\n",
            "484/484 [==============================] - 6s 13ms/step - loss: 1.3602 - accuracy: 0.7778\n",
            "Epoch 55/100\n",
            "484/484 [==============================] - 6s 13ms/step - loss: 1.3311 - accuracy: 0.7882\n",
            "Epoch 56/100\n",
            "484/484 [==============================] - 6s 13ms/step - loss: 1.3049 - accuracy: 0.7915\n",
            "Epoch 57/100\n",
            "484/484 [==============================] - 6s 13ms/step - loss: 1.3079 - accuracy: 0.7894\n",
            "Epoch 58/100\n",
            "484/484 [==============================] - 6s 13ms/step - loss: 1.2773 - accuracy: 0.8002\n",
            "Epoch 59/100\n",
            "484/484 [==============================] - 6s 13ms/step - loss: 1.3032 - accuracy: 0.7891\n",
            "Epoch 60/100\n",
            "484/484 [==============================] - 6s 13ms/step - loss: 1.2462 - accuracy: 0.8006\n",
            "Epoch 61/100\n",
            "484/484 [==============================] - 6s 13ms/step - loss: 1.2406 - accuracy: 0.7981\n",
            "Epoch 62/100\n",
            "484/484 [==============================] - 6s 13ms/step - loss: 1.2259 - accuracy: 0.8018\n",
            "Epoch 63/100\n",
            "484/484 [==============================] - 6s 13ms/step - loss: 1.1781 - accuracy: 0.8110\n",
            "Epoch 64/100\n",
            "484/484 [==============================] - 6s 13ms/step - loss: 1.1560 - accuracy: 0.8154\n",
            "Epoch 65/100\n",
            "484/484 [==============================] - 6s 13ms/step - loss: 1.1285 - accuracy: 0.8216\n",
            "Epoch 66/100\n",
            "484/484 [==============================] - 6s 13ms/step - loss: 1.1220 - accuracy: 0.8225\n",
            "Epoch 67/100\n",
            "484/484 [==============================] - 6s 13ms/step - loss: 1.1378 - accuracy: 0.8125\n",
            "Epoch 68/100\n",
            "484/484 [==============================] - 6s 13ms/step - loss: 1.1166 - accuracy: 0.8184\n",
            "Epoch 69/100\n",
            "484/484 [==============================] - 6s 13ms/step - loss: 1.1224 - accuracy: 0.8173\n",
            "Epoch 70/100\n",
            "484/484 [==============================] - 6s 13ms/step - loss: 1.0726 - accuracy: 0.8273\n",
            "Epoch 71/100\n",
            "484/484 [==============================] - 6s 13ms/step - loss: 1.0593 - accuracy: 0.8297\n",
            "Epoch 72/100\n",
            "484/484 [==============================] - 6s 13ms/step - loss: 1.0427 - accuracy: 0.8299\n",
            "Epoch 73/100\n",
            "484/484 [==============================] - 6s 13ms/step - loss: 1.0538 - accuracy: 0.8313\n",
            "Epoch 74/100\n",
            "484/484 [==============================] - 6s 13ms/step - loss: 1.0604 - accuracy: 0.8262\n",
            "Epoch 75/100\n",
            "484/484 [==============================] - 6s 13ms/step - loss: 1.0434 - accuracy: 0.8317\n",
            "Epoch 76/100\n",
            "484/484 [==============================] - 6s 13ms/step - loss: 1.0671 - accuracy: 0.8212\n",
            "Epoch 77/100\n",
            "484/484 [==============================] - 6s 13ms/step - loss: 1.0085 - accuracy: 0.8320\n",
            "Epoch 78/100\n",
            "484/484 [==============================] - 6s 13ms/step - loss: 1.0014 - accuracy: 0.8300\n",
            "Epoch 79/100\n",
            "484/484 [==============================] - 6s 13ms/step - loss: 1.0457 - accuracy: 0.8243\n",
            "Epoch 80/100\n",
            "484/484 [==============================] - 6s 13ms/step - loss: 0.9888 - accuracy: 0.8371\n",
            "Epoch 81/100\n",
            "484/484 [==============================] - 6s 13ms/step - loss: 0.9691 - accuracy: 0.8394\n",
            "Epoch 82/100\n",
            "484/484 [==============================] - 6s 13ms/step - loss: 0.9937 - accuracy: 0.8317\n",
            "Epoch 83/100\n",
            "484/484 [==============================] - 6s 13ms/step - loss: 0.9862 - accuracy: 0.8320\n",
            "Epoch 84/100\n",
            "484/484 [==============================] - 6s 13ms/step - loss: 0.9494 - accuracy: 0.8406\n",
            "Epoch 85/100\n",
            "484/484 [==============================] - 6s 13ms/step - loss: 0.9821 - accuracy: 0.8287\n",
            "Epoch 86/100\n",
            "484/484 [==============================] - 6s 13ms/step - loss: 0.9886 - accuracy: 0.8291\n",
            "Epoch 87/100\n",
            "484/484 [==============================] - 6s 13ms/step - loss: 0.9507 - accuracy: 0.8412\n",
            "Epoch 88/100\n",
            "484/484 [==============================] - 6s 13ms/step - loss: 1.0003 - accuracy: 0.8272\n",
            "Epoch 89/100\n",
            "484/484 [==============================] - 6s 13ms/step - loss: 0.9392 - accuracy: 0.8403\n",
            "Epoch 90/100\n",
            "484/484 [==============================] - 6s 13ms/step - loss: 0.9175 - accuracy: 0.8430\n",
            "Epoch 91/100\n",
            "484/484 [==============================] - 6s 13ms/step - loss: 0.9331 - accuracy: 0.8399\n",
            "Epoch 92/100\n",
            "484/484 [==============================] - 6s 13ms/step - loss: 0.9589 - accuracy: 0.8344\n",
            "Epoch 93/100\n",
            "484/484 [==============================] - 6s 13ms/step - loss: 0.9755 - accuracy: 0.8287\n",
            "Epoch 94/100\n",
            "484/484 [==============================] - 6s 13ms/step - loss: 0.9302 - accuracy: 0.8379\n",
            "Epoch 95/100\n",
            "484/484 [==============================] - 6s 13ms/step - loss: 0.9302 - accuracy: 0.8361\n",
            "Epoch 96/100\n",
            "484/484 [==============================] - 6s 13ms/step - loss: 0.9099 - accuracy: 0.8404\n",
            "Epoch 97/100\n",
            "484/484 [==============================] - 6s 13ms/step - loss: 0.9092 - accuracy: 0.8394\n",
            "Epoch 98/100\n",
            "484/484 [==============================] - 6s 13ms/step - loss: 0.8762 - accuracy: 0.8452\n",
            "Epoch 99/100\n",
            "484/484 [==============================] - 6s 13ms/step - loss: 0.8860 - accuracy: 0.8425\n",
            "Epoch 100/100\n",
            "484/484 [==============================] - 6s 13ms/step - loss: 0.8867 - accuracy: 0.8433\n"
          ],
          "name": "stdout"
        }
      ]
    },
    {
      "cell_type": "code",
      "metadata": {
        "colab": {
          "base_uri": "https://localhost:8080/",
          "height": 545
        },
        "id": "1fXTEO3GJ282",
        "outputId": "0e4e7608-c4d9-49a3-ab93-347cdc73164a"
      },
      "source": [
        "import matplotlib.pyplot as plt\n",
        "acc = history.history['accuracy']\n",
        "loss = history.history['loss']\n",
        "\n",
        "epochs = range(len(acc))\n",
        "\n",
        "plt.plot(epochs, acc, 'b', label='Training accuracy')\n",
        "plt.title('Training accuracy')\n",
        "\n",
        "plt.figure()\n",
        "\n",
        "plt.plot(epochs, loss, 'b', label='Training Loss')\n",
        "plt.title('Training loss')\n",
        "plt.legend()\n",
        "\n",
        "plt.show()"
      ],
      "execution_count": 11,
      "outputs": [
        {
          "output_type": "display_data",
          "data": {
            "image/png": "[encoded data removed]",
            "text/plain": [
              "<Figure size 432x288 with 1 Axes>"
            ]
          },
          "metadata": {
            "tags": [],
            "needs_background": "light"
          }
        },
        {
          "output_type": "display_data",
          "data": {
            "image/png": "[encoded data removed]",
            "text/plain": [
              "<Figure size 432x288 with 1 Axes>"
            ]
          },
          "metadata": {
            "tags": [],
            "needs_background": "light"
          }
        }
      ]
    },
    {
      "cell_type": "code",
      "metadata": {
        "colab": {
          "base_uri": "https://localhost:8080/"
        },
        "id": "6Vc6PHgxa6Hm",
        "outputId": "8df32163-fba8-4093-ef9b-eca974572509"
      },
      "source": [
        "seed_text = \"Help me Obi Wan Kenobi, you're my only hope\"\n",
        "next_words = 100\n",
        "  \n",
        "for _ in range(next_words):\n",
        "\ttoken_list = tokenizer.texts_to_sequences([seed_text])[0]\n",
        "\ttoken_list = pad_sequences([token_list], maxlen=max_sequence_len-1, padding='pre')\n",
        "\tpredicted = model.predict_classes(token_list, verbose=0)\n",
        "\toutput_word = \"\"\n",
        "\tfor word, index in tokenizer.word_index.items():\n",
        "\t\tif index == predicted:\n",
        "\t\t\toutput_word = word\n",
        "\t\t\tbreak\n",
        "\tseed_text += \" \" + output_word\n",
        "print(seed_text)"
      ],
      "execution_count": 12,
      "outputs": [
        {
          "output_type": "stream",
          "text": [
            "/usr/local/lib/python3.7/dist-packages/tensorflow/python/keras/engine/sequential.py:450: UserWarning: `model.predict_classes()` is deprecated and will be removed after 2021-01-01. Please use instead:* `np.argmax(model.predict(x), axis=-1)`,   if your model does multi-class classification   (e.g. if it uses a `softmax` last-layer activation).* `(model.predict(x) > 0.5).astype(\"int32\")`,   if your model does binary classification   (e.g. if it uses a `sigmoid` last-layer activation).\n",
            "  warnings.warn('`model.predict_classes()` is deprecated and '\n"
          ],
          "name": "stderr"
        },
        {
          "output_type": "stream",
          "text": [
            "Help me Obi Wan Kenobi, you're my only hope and grace where found her song in truth doth plea drinks it ill did not brought to view no woe in true friend grow mad by woe bars her perceived torn amazeth survey survey survey woe ' had seen store quite blot the inward days by hours to happy ill eye doth i deem'd green my wit repair prove before thee be such too dumb so dwell in told to gone on me go must be near dumb doth gone anew to till such happy ill in my friend ill well must know you live so strong such substance grow\n"
          ],
          "name": "stdout"
        }
      ]
    },
    {
      "cell_type": "code",
      "metadata": {
        "id": "tQHsiwe4O_9a"
      },
      "source": [
        ""
      ],
      "execution_count": null,
      "outputs": []
    }
  ]
}