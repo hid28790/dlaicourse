{
  "nbformat": 4,
  "nbformat_minor": 0,
  "metadata": {
    "accelerator": "TPU",
    "colab": {
      "name": "NLP Course - Week 3 Exercise Question.ipynb",
      "provenance": [],
      "toc_visible": true
    },
    "kernelspec": {
      "display_name": "Python 3",
      "name": "python3"
    }
  },
  "cells": [
    {
      "cell_type": "code",
      "metadata": {
        "id": "zX4Kg8DUTKWO"
      },
      "source": [
        "#@title Licensed under the Apache License, Version 2.0 (the \"License\");\n",
        "# you may not use this file except in compliance with the License.\n",
        "# You may obtain a copy of the License at\n",
        "#\n",
        "# https://www.apache.org/licenses/LICENSE-2.0\n",
        "#\n",
        "# Unless required by applicable law or agreed to in writing, software\n",
        "# distributed under the License is distributed on an \"AS IS\" BASIS,\n",
        "# WITHOUT WARRANTIES OR CONDITIONS OF ANY KIND, either express or implied.\n",
        "# See the License for the specific language governing permissions and\n",
        "# limitations under the License."
      ],
      "execution_count": 1,
      "outputs": []
    },
    {
      "cell_type": "code",
      "metadata": {
        "id": "hmA6EzkQJ5jt"
      },
      "source": [
        "import json\n",
        "import tensorflow as tf\n",
        "import csv\n",
        "import random\n",
        "import numpy as np\n",
        "\n",
        "from tensorflow.keras.preprocessing.text import Tokenizer\n",
        "from tensorflow.keras.preprocessing.sequence import pad_sequences\n",
        "from tensorflow.keras.utils import to_categorical\n",
        "from tensorflow.keras import regularizers\n",
        "\n",
        "\n",
        "embedding_dim = 25 #100\n",
        "max_length = 16\n",
        "trunc_type='post'\n",
        "padding_type='post'\n",
        "oov_tok = \"<OOV>\"\n",
        "#Your dataset size here. Experiment using smaller values (i.e. 16000), but don't forget to train on at least 160000 to see the best effects\n",
        "training_size= 160000\n",
        "test_portion=.1\n",
        "\n",
        "corpus = []\n"
      ],
      "execution_count": 2,
      "outputs": []
    },
    {
      "cell_type": "code",
      "metadata": {
        "colab": {
          "base_uri": "https://localhost:8080/"
        },
        "id": "bM0l_dORKqE0",
        "outputId": "bcf27ad6-858e-4065-fd4a-aeeccba6e7e2"
      },
      "source": [
        "# Note that I cleaned the Stanford dataset to remove LATIN1 encoding to make it easier for Python CSV reader\n",
        "# You can do that yourself with:\n",
        "# iconv -f LATIN1 -t UTF8 training.1600000.processed.noemoticon.csv -o training_cleaned.csv\n",
        "# I then hosted it on my site to make it easier to use in this notebook\n",
        "\n",
        "#!wget --no-check-certificate \\\n",
        "#    https://storage.googleapis.com/laurencemoroney-blog.appspot.com/training_cleaned.csv \\\n",
        "#    -O /tmp/training_cleaned.csv\n",
        "\n",
        "import os \n",
        "import zipfile\n",
        "!gdown --id 0B04GJPshIjmPRnZManQwWEdTZjg -O '/tmp/trainingandtestdata.zip'\n",
        "local_zip = '/tmp/trainingandtestdata.zip'\n",
        "zip_ref = zipfile.ZipFile(local_zip, 'r')\n",
        "zip_ref.extractall('/tmp/training_raw')\n",
        "!iconv -f LATIN1 -t UTF8 /tmp/training_raw/training.1600000.processed.noemoticon.csv -o /tmp/training_cleaned.csv\n",
        "\n",
        "num_sentences = 0\n",
        "\n",
        "with open(\"/tmp/training_cleaned.csv\") as csvfile:\n",
        "    reader = csv.reader(csvfile, delimiter=',')\n",
        "    for row in reader:\n",
        "      # Your Code here. Create list items where the first item is the text, found in row[5], and the second is the label. Note that the label is a '0' or a '4' in the text. When it's the former, make\n",
        "      # your label to be 0, otherwise 1. Keep a count of the number of sentences in num_sentences\n",
        "        list_item=[]\n",
        "        list_item.append(row[5])\n",
        "        this_label=row[0]\n",
        "        if this_label=='0':\n",
        "            list_item.append(0)\n",
        "        else:\n",
        "            list_item.append(1)\n",
        "        num_sentences = num_sentences + 1\n",
        "        corpus.append(list_item)"
      ],
      "execution_count": 3,
      "outputs": [
        {
          "output_type": "stream",
          "text": [
            "Downloading...\n",
            "From: https://drive.google.com/uc?id=0B04GJPshIjmPRnZManQwWEdTZjg\n",
            "To: /tmp/trainingandtestdata.zip\n",
            "81.4MB [00:00, 114MB/s] \n"
          ],
          "name": "stdout"
        }
      ]
    },
    {
      "cell_type": "code",
      "metadata": {
        "colab": {
          "base_uri": "https://localhost:8080/"
        },
        "id": "3kxblBUjEUX-",
        "outputId": "5900821a-62a2-4467-aff0-3863651d3645"
      },
      "source": [
        "print(num_sentences)\n",
        "print(len(corpus))\n",
        "print(corpus[1])\n",
        "\n",
        "# Expected Output:\n",
        "# 1600000\n",
        "# 1600000\n",
        "# [\"is upset that he can't update his Facebook by texting it... and might cry as a result  School today also. Blah!\", 0]"
      ],
      "execution_count": 4,
      "outputs": [
        {
          "output_type": "stream",
          "text": [
            "1600000\n",
            "1600000\n",
            "[\"is upset that he can't update his Facebook by texting it... and might cry as a result  School today also. Blah!\", 0]\n"
          ],
          "name": "stdout"
        }
      ]
    },
    {
      "cell_type": "code",
      "metadata": {
        "id": "ohOGz24lsNAD"
      },
      "source": [
        "sentences=[]\n",
        "labels=[]\n",
        "random.shuffle(corpus)\n",
        "for x in range(training_size):\n",
        "    sentences.append(corpus[x][0])\n",
        "    labels.append(corpus[x][1])\n",
        "\n",
        "tokenizer = Tokenizer()\n",
        "tokenizer.fit_on_texts(sentences)\n",
        "\n",
        "word_index = tokenizer.word_index\n",
        "vocab_size=len(word_index)\n",
        "\n",
        "sequences = tokenizer.texts_to_sequences(sentences)\n",
        "padded = pad_sequences(sequences, maxlen=max_length, padding=padding_type, truncating=trunc_type)\n",
        "\n",
        "split = int(test_portion * training_size)\n",
        "\n",
        "test_sequences = np.array(padded[:split])\n",
        "training_sequences = np.array(padded[split:training_size])\n",
        "test_labels = np.array(labels[:split])\n",
        "training_labels = np.array(labels[split:training_size])"
      ],
      "execution_count": 5,
      "outputs": []
    },
    {
      "cell_type": "code",
      "metadata": {
        "colab": {
          "base_uri": "https://localhost:8080/"
        },
        "id": "gIrtRem1En3N",
        "outputId": "c8611e34-8ddd-4797-edc6-6f588490389a"
      },
      "source": [
        "print(vocab_size)\n",
        "print(word_index['i'])\n",
        "# Expected Output\n",
        "# 138858\n",
        "# 1"
      ],
      "execution_count": 6,
      "outputs": [
        {
          "output_type": "stream",
          "text": [
            "138878\n",
            "1\n"
          ],
          "name": "stdout"
        }
      ]
    },
    {
      "cell_type": "code",
      "metadata": {
        "colab": {
          "base_uri": "https://localhost:8080/"
        },
        "id": "C1zdgJkusRh0",
        "outputId": "1091b365-7b00-4265-8569-c62e215bbbf8"
      },
      "source": [
        "# Note this is the 100 dimension version of GloVe from Stanford\n",
        "# I unzipped and hosted it on my site to make this notebook easier\n",
        "#!wget --no-check-certificate \\\n",
        "#    https://storage.googleapis.com/laurencemoroney-blog.appspot.com/glove.6B.100d.txt \\\n",
        "#    -O /tmp/glove.6B.100d.txt\n",
        "\n",
        "!wget --no-check-certificate \\\n",
        "    https://storage.googleapis.com/laurencemoroney-blog.appspot.com/glove.zip \\\n",
        "    -O /tmp/glove.zip\n",
        "local_zip = '/tmp/glove.zip'\n",
        "zip_ref = zipfile.ZipFile(local_zip, 'r')\n",
        "zip_ref.extractall('/tmp/glove/')\n",
        "print(os.listdir('/tmp/glove'))\n",
        "\n",
        "embeddings_index = {};\n",
        "# with open('/tmp/glove/glove.6B.100d.txt') as f:\n",
        "with open('/tmp/glove/glove.twitter.27B.25d.txt') as f:  \n",
        "    for line in f:\n",
        "        values = line.split();\n",
        "        word = values[0];\n",
        "        coefs = np.asarray(values[1:], dtype='float32');\n",
        "        embeddings_index[word] = coefs;\n",
        "\n",
        "embeddings_matrix = np.zeros((vocab_size+1, embedding_dim));\n",
        "for word, i in word_index.items():\n",
        "    embedding_vector = embeddings_index.get(word);\n",
        "    if embedding_vector is not None:\n",
        "        embeddings_matrix[i] = embedding_vector;"
      ],
      "execution_count": 7,
      "outputs": [
        {
          "output_type": "stream",
          "text": [
            "--2021-03-05 13:09:40--  https://storage.googleapis.com/laurencemoroney-blog.appspot.com/glove.zip\n",
            "Resolving storage.googleapis.com (storage.googleapis.com)... 74.125.129.128, 172.217.212.128, 172.217.214.128, ...\n",
            "Connecting to storage.googleapis.com (storage.googleapis.com)|74.125.129.128|:443... connected.\n",
            "HTTP request sent, awaiting response... 200 OK\n",
            "Length: 112372936 (107M) [application/zip]\n",
            "Saving to: ‘/tmp/glove.zip’\n",
            "\n",
            "/tmp/glove.zip      100%[===================>] 107.17M  98.4MB/s    in 1.1s    \n",
            "\n",
            "2021-03-05 13:09:41 (98.4 MB/s) - ‘/tmp/glove.zip’ saved [112372936/112372936]\n",
            "\n",
            "['glove.twitter.27B.25d.txt']\n"
          ],
          "name": "stdout"
        }
      ]
    },
    {
      "cell_type": "code",
      "metadata": {
        "colab": {
          "base_uri": "https://localhost:8080/"
        },
        "id": "71NLk_lpFLNt",
        "outputId": "9bf1a664-8698-46f3-fd52-ebbcb0e854bb"
      },
      "source": [
        "print(len(embeddings_matrix))\n",
        "# Expected Output\n",
        "# 138859"
      ],
      "execution_count": 8,
      "outputs": [
        {
          "output_type": "stream",
          "text": [
            "138879\n"
          ],
          "name": "stdout"
        }
      ]
    },
    {
      "cell_type": "code",
      "metadata": {
        "colab": {
          "base_uri": "https://localhost:8080/"
        },
        "id": "iKKvbuEBOGFz",
        "outputId": "b7d2e21d-3411-4d05-8b25-0fd829c26219"
      },
      "source": [
        "model = tf.keras.Sequential([\n",
        "    tf.keras.layers.Embedding(vocab_size+1, embedding_dim, input_length=max_length, weights=[embeddings_matrix], trainable=False),\n",
        "    tf.keras.layers.Dropout(0.2),\n",
        "    tf.keras.layers.Conv1D(64, 5, activation='relu'),\n",
        "    tf.keras.layers.MaxPooling1D(pool_size=4),\n",
        "    tf.keras.layers.LSTM(64),\n",
        "    tf.keras.layers.Dense(1, activation='sigmoid')\n",
        "])\n",
        "model.compile(loss='binary_crossentropy',optimizer='adam',metrics=['accuracy'])\n",
        "model.summary()\n",
        "\n",
        "num_epochs = 50\n",
        "history = model.fit(training_sequences, training_labels, epochs=num_epochs, validation_data=(test_sequences, test_labels))\n",
        "\n",
        "print(\"Training Complete\")\n"
      ],
      "execution_count": 9,
      "outputs": [
        {
          "output_type": "stream",
          "text": [
            "Model: \"sequential\"\n",
            "_________________________________________________________________\n",
            "Layer (type)                 Output Shape              Param #   \n",
            "=================================================================\n",
            "embedding (Embedding)        (None, 16, 25)            3471975   \n",
            "_________________________________________________________________\n",
            "dropout (Dropout)            (None, 16, 25)            0         \n",
            "_________________________________________________________________\n",
            "conv1d (Conv1D)              (None, 12, 64)            8064      \n",
            "_________________________________________________________________\n",
            "max_pooling1d (MaxPooling1D) (None, 3, 64)             0         \n",
            "_________________________________________________________________\n",
            "lstm (LSTM)                  (None, 64)                33024     \n",
            "_________________________________________________________________\n",
            "dense (Dense)                (None, 1)                 65        \n",
            "=================================================================\n",
            "Total params: 3,513,128\n",
            "Trainable params: 41,153\n",
            "Non-trainable params: 3,471,975\n",
            "_________________________________________________________________\n",
            "Epoch 1/50\n",
            "4500/4500 [==============================] - 24s 5ms/step - loss: 0.6113 - accuracy: 0.6565 - val_loss: 0.5571 - val_accuracy: 0.7082\n",
            "Epoch 2/50\n",
            "4500/4500 [==============================] - 21s 5ms/step - loss: 0.5718 - accuracy: 0.6950 - val_loss: 0.5473 - val_accuracy: 0.7169\n",
            "Epoch 3/50\n",
            "4500/4500 [==============================] - 21s 5ms/step - loss: 0.5628 - accuracy: 0.7033 - val_loss: 0.5388 - val_accuracy: 0.7221\n",
            "Epoch 4/50\n",
            "4500/4500 [==============================] - 21s 5ms/step - loss: 0.5554 - accuracy: 0.7091 - val_loss: 0.5365 - val_accuracy: 0.7242\n",
            "Epoch 5/50\n",
            "4500/4500 [==============================] - 21s 5ms/step - loss: 0.5479 - accuracy: 0.7148 - val_loss: 0.5277 - val_accuracy: 0.7299\n",
            "Epoch 6/50\n",
            "4500/4500 [==============================] - 21s 5ms/step - loss: 0.5412 - accuracy: 0.7195 - val_loss: 0.5302 - val_accuracy: 0.7264\n",
            "Epoch 7/50\n",
            "4500/4500 [==============================] - 21s 5ms/step - loss: 0.5363 - accuracy: 0.7229 - val_loss: 0.5314 - val_accuracy: 0.7300\n",
            "Epoch 8/50\n",
            "4500/4500 [==============================] - 21s 5ms/step - loss: 0.5364 - accuracy: 0.7238 - val_loss: 0.5219 - val_accuracy: 0.7378\n",
            "Epoch 9/50\n",
            "4500/4500 [==============================] - 21s 5ms/step - loss: 0.5310 - accuracy: 0.7264 - val_loss: 0.5230 - val_accuracy: 0.7345\n",
            "Epoch 10/50\n",
            "4500/4500 [==============================] - 21s 5ms/step - loss: 0.5289 - accuracy: 0.7275 - val_loss: 0.5260 - val_accuracy: 0.7294\n",
            "Epoch 11/50\n",
            "4500/4500 [==============================] - 21s 5ms/step - loss: 0.5268 - accuracy: 0.7295 - val_loss: 0.5229 - val_accuracy: 0.7354\n",
            "Epoch 12/50\n",
            "4500/4500 [==============================] - 21s 5ms/step - loss: 0.5261 - accuracy: 0.7313 - val_loss: 0.5185 - val_accuracy: 0.7383\n",
            "Epoch 13/50\n",
            "4500/4500 [==============================] - 21s 5ms/step - loss: 0.5218 - accuracy: 0.7334 - val_loss: 0.5182 - val_accuracy: 0.7372\n",
            "Epoch 14/50\n",
            "4500/4500 [==============================] - 21s 5ms/step - loss: 0.5197 - accuracy: 0.7352 - val_loss: 0.5256 - val_accuracy: 0.7328\n",
            "Epoch 15/50\n",
            "4500/4500 [==============================] - 22s 5ms/step - loss: 0.5164 - accuracy: 0.7381 - val_loss: 0.5195 - val_accuracy: 0.7366\n",
            "Epoch 16/50\n",
            "4500/4500 [==============================] - 21s 5ms/step - loss: 0.5203 - accuracy: 0.7352 - val_loss: 0.5196 - val_accuracy: 0.7361\n",
            "Epoch 17/50\n",
            "4500/4500 [==============================] - 21s 5ms/step - loss: 0.5152 - accuracy: 0.7386 - val_loss: 0.5240 - val_accuracy: 0.7322\n",
            "Epoch 18/50\n",
            "4500/4500 [==============================] - 21s 5ms/step - loss: 0.5160 - accuracy: 0.7378 - val_loss: 0.5195 - val_accuracy: 0.7368\n",
            "Epoch 19/50\n",
            "4500/4500 [==============================] - 21s 5ms/step - loss: 0.5127 - accuracy: 0.7405 - val_loss: 0.5219 - val_accuracy: 0.7359\n",
            "Epoch 20/50\n",
            "4500/4500 [==============================] - 22s 5ms/step - loss: 0.5130 - accuracy: 0.7396 - val_loss: 0.5212 - val_accuracy: 0.7358\n",
            "Epoch 21/50\n",
            "4500/4500 [==============================] - 22s 5ms/step - loss: 0.5132 - accuracy: 0.7400 - val_loss: 0.5211 - val_accuracy: 0.7369\n",
            "Epoch 22/50\n",
            "4500/4500 [==============================] - 22s 5ms/step - loss: 0.5114 - accuracy: 0.7405 - val_loss: 0.5228 - val_accuracy: 0.7347\n",
            "Epoch 23/50\n",
            "4500/4500 [==============================] - 21s 5ms/step - loss: 0.5114 - accuracy: 0.7392 - val_loss: 0.5240 - val_accuracy: 0.7357\n",
            "Epoch 24/50\n",
            "4500/4500 [==============================] - 21s 5ms/step - loss: 0.5117 - accuracy: 0.7412 - val_loss: 0.5247 - val_accuracy: 0.7333\n",
            "Epoch 25/50\n",
            "4500/4500 [==============================] - 21s 5ms/step - loss: 0.5113 - accuracy: 0.7426 - val_loss: 0.5273 - val_accuracy: 0.7322\n",
            "Epoch 26/50\n",
            "4500/4500 [==============================] - 21s 5ms/step - loss: 0.5100 - accuracy: 0.7423 - val_loss: 0.5242 - val_accuracy: 0.7376\n",
            "Epoch 27/50\n",
            "4500/4500 [==============================] - 22s 5ms/step - loss: 0.5071 - accuracy: 0.7439 - val_loss: 0.5251 - val_accuracy: 0.7322\n",
            "Epoch 28/50\n",
            "4500/4500 [==============================] - 21s 5ms/step - loss: 0.5071 - accuracy: 0.7445 - val_loss: 0.5235 - val_accuracy: 0.7374\n",
            "Epoch 29/50\n",
            "4500/4500 [==============================] - 21s 5ms/step - loss: 0.5067 - accuracy: 0.7437 - val_loss: 0.5223 - val_accuracy: 0.7343\n",
            "Epoch 30/50\n",
            "4500/4500 [==============================] - 21s 5ms/step - loss: 0.5094 - accuracy: 0.7439 - val_loss: 0.5255 - val_accuracy: 0.7352\n",
            "Epoch 31/50\n",
            "4500/4500 [==============================] - 21s 5ms/step - loss: 0.5074 - accuracy: 0.7429 - val_loss: 0.5256 - val_accuracy: 0.7346\n",
            "Epoch 32/50\n",
            "4500/4500 [==============================] - 21s 5ms/step - loss: 0.5079 - accuracy: 0.7438 - val_loss: 0.5238 - val_accuracy: 0.7324\n",
            "Epoch 33/50\n",
            "4500/4500 [==============================] - 21s 5ms/step - loss: 0.5064 - accuracy: 0.7434 - val_loss: 0.5224 - val_accuracy: 0.7337\n",
            "Epoch 34/50\n",
            "4500/4500 [==============================] - 21s 5ms/step - loss: 0.5058 - accuracy: 0.7457 - val_loss: 0.5216 - val_accuracy: 0.7364\n",
            "Epoch 35/50\n",
            "4500/4500 [==============================] - 21s 5ms/step - loss: 0.5057 - accuracy: 0.7454 - val_loss: 0.5211 - val_accuracy: 0.7377\n",
            "Epoch 36/50\n",
            "4500/4500 [==============================] - 21s 5ms/step - loss: 0.5074 - accuracy: 0.7438 - val_loss: 0.5226 - val_accuracy: 0.7358\n",
            "Epoch 37/50\n",
            "4500/4500 [==============================] - 21s 5ms/step - loss: 0.5076 - accuracy: 0.7429 - val_loss: 0.5215 - val_accuracy: 0.7352\n",
            "Epoch 38/50\n",
            "4500/4500 [==============================] - 22s 5ms/step - loss: 0.5071 - accuracy: 0.7430 - val_loss: 0.5240 - val_accuracy: 0.7348\n",
            "Epoch 39/50\n",
            "4500/4500 [==============================] - 21s 5ms/step - loss: 0.5055 - accuracy: 0.7446 - val_loss: 0.5240 - val_accuracy: 0.7330\n",
            "Epoch 40/50\n",
            "4500/4500 [==============================] - 21s 5ms/step - loss: 0.5039 - accuracy: 0.7464 - val_loss: 0.5243 - val_accuracy: 0.7331\n",
            "Epoch 41/50\n",
            "4500/4500 [==============================] - 22s 5ms/step - loss: 0.5036 - accuracy: 0.7469 - val_loss: 0.5254 - val_accuracy: 0.7349\n",
            "Epoch 42/50\n",
            "4500/4500 [==============================] - 21s 5ms/step - loss: 0.5034 - accuracy: 0.7459 - val_loss: 0.5243 - val_accuracy: 0.7334\n",
            "Epoch 43/50\n",
            "4500/4500 [==============================] - 21s 5ms/step - loss: 0.5046 - accuracy: 0.7464 - val_loss: 0.5240 - val_accuracy: 0.7319\n",
            "Epoch 44/50\n",
            "4500/4500 [==============================] - 21s 5ms/step - loss: 0.5042 - accuracy: 0.7471 - val_loss: 0.5239 - val_accuracy: 0.7342\n",
            "Epoch 45/50\n",
            "4500/4500 [==============================] - 21s 5ms/step - loss: 0.5062 - accuracy: 0.7452 - val_loss: 0.5281 - val_accuracy: 0.7298\n",
            "Epoch 46/50\n",
            "4500/4500 [==============================] - 21s 5ms/step - loss: 0.5038 - accuracy: 0.7459 - val_loss: 0.5239 - val_accuracy: 0.7349\n",
            "Epoch 47/50\n",
            "4500/4500 [==============================] - 21s 5ms/step - loss: 0.5032 - accuracy: 0.7489 - val_loss: 0.5281 - val_accuracy: 0.7321\n",
            "Epoch 48/50\n",
            "4500/4500 [==============================] - 22s 5ms/step - loss: 0.5006 - accuracy: 0.7500 - val_loss: 0.5231 - val_accuracy: 0.7346\n",
            "Epoch 49/50\n",
            "4500/4500 [==============================] - 21s 5ms/step - loss: 0.5033 - accuracy: 0.7468 - val_loss: 0.5258 - val_accuracy: 0.7334\n",
            "Epoch 50/50\n",
            "4500/4500 [==============================] - 22s 5ms/step - loss: 0.5023 - accuracy: 0.7460 - val_loss: 0.5275 - val_accuracy: 0.7293\n",
            "Training Complete\n"
          ],
          "name": "stdout"
        }
      ]
    },
    {
      "cell_type": "code",
      "metadata": {
        "colab": {
          "base_uri": "https://localhost:8080/",
          "height": 609
        },
        "id": "qxju4ItJKO8F",
        "outputId": "605dad50-dc4d-4778-e75d-eefa399a458b"
      },
      "source": [
        "import matplotlib.image  as mpimg\n",
        "import matplotlib.pyplot as plt\n",
        "\n",
        "#-----------------------------------------------------------\n",
        "# Retrieve a list of list results on training and test data\n",
        "# sets for each training epoch\n",
        "#-----------------------------------------------------------\n",
        "acc=history.history['accuracy']\n",
        "val_acc=history.history['val_accuracy']\n",
        "loss=history.history['loss']\n",
        "val_loss=history.history['val_loss']\n",
        "\n",
        "epochs=range(len(acc)) # Get number of epochs\n",
        "\n",
        "#------------------------------------------------\n",
        "# Plot training and validation accuracy per epoch\n",
        "#------------------------------------------------\n",
        "plt.plot(epochs, acc, 'r')\n",
        "plt.plot(epochs, val_acc, 'b')\n",
        "plt.title('Training and validation accuracy')\n",
        "plt.xlabel(\"Epochs\")\n",
        "plt.ylabel(\"Accuracy\")\n",
        "plt.legend([\"Accuracy\", \"Validation Accuracy\"])\n",
        "\n",
        "plt.figure()\n",
        "\n",
        "#------------------------------------------------\n",
        "# Plot training and validation loss per epoch\n",
        "#------------------------------------------------\n",
        "plt.plot(epochs, loss, 'r')\n",
        "plt.plot(epochs, val_loss, 'b')\n",
        "plt.title('Training and validation loss')\n",
        "plt.xlabel(\"Epochs\")\n",
        "plt.ylabel(\"Loss\")\n",
        "plt.legend([\"Loss\", \"Validation Loss\"])\n",
        "\n",
        "plt.figure()\n",
        "\n",
        "\n",
        "# Expected Output\n",
        "# A chart where the validation loss does not increase sharply!"
      ],
      "execution_count": 10,
      "outputs": [
        {
          "output_type": "execute_result",
          "data": {
            "text/plain": [
              "<Figure size 432x288 with 0 Axes>"
            ]
          },
          "metadata": {
            "tags": []
          },
          "execution_count": 10
        },
        {
          "output_type": "display_data",
          "data": {
            "image/png": "[encoded data removed]",
            "text/plain": [
              "<Figure size 432x288 with 1 Axes>"
            ]
          },
          "metadata": {
            "tags": [],
            "needs_background": "light"
          }
        },
        {
          "output_type": "display_data",
          "data": {
            "image/png": "[encoded data removed]",
            "text/plain": [
              "<Figure size 432x288 with 1 Axes>"
            ]
          },
          "metadata": {
            "tags": [],
            "needs_background": "light"
          }
        },
        {
          "output_type": "display_data",
          "data": {
            "text/plain": [
              "<Figure size 432x288 with 0 Axes>"
            ]
          },
          "metadata": {
            "tags": []
          }
        }
      ]
    },
    {
      "cell_type": "code",
      "metadata": {
        "id": "Xw2d_GqrUFiF"
      },
      "source": [
        ""
      ],
      "execution_count": 10,
      "outputs": []
    }
  ]
}